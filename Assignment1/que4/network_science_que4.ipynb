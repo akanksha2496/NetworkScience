{
 "cells": [
  {
   "cell_type": "markdown",
   "metadata": {
    "id": "g_Qhm1o-jaZq"
   },
   "source": [
    "here loaded directed graph:"
   ]
  },
  {
   "cell_type": "code",
   "execution_count": 1,
   "metadata": {
    "id": "Sbj6_YPUfxm4"
   },
   "outputs": [],
   "source": [
    "import pandas as pd\n",
    "data = pd.read_csv('/content/fb-pages-food.edges', sep=',') #here is the data"
   ]
  },
  {
   "cell_type": "code",
   "execution_count": 2,
   "metadata": {
    "id": "4mRUzDYqjPRD"
   },
   "outputs": [],
   "source": [
    "data.columns=['u','v'] #columns name is u for source and v for target "
   ]
  },
  {
   "cell_type": "code",
   "execution_count": 3,
   "metadata": {
    "colab": {
     "base_uri": "https://localhost:8080/",
     "height": 402
    },
    "id": "wO50iAfsjajZ",
    "outputId": "d7784e98-38f4-48d1-9d44-6a5e12303552"
   },
   "outputs": [
    {
     "data": {
      "text/html": [
       "<div>\n",
       "<style scoped>\n",
       "    .dataframe tbody tr th:only-of-type {\n",
       "        vertical-align: middle;\n",
       "    }\n",
       "\n",
       "    .dataframe tbody tr th {\n",
       "        vertical-align: top;\n",
       "    }\n",
       "\n",
       "    .dataframe thead th {\n",
       "        text-align: right;\n",
       "    }\n",
       "</style>\n",
       "<table border=\"1\" class=\"dataframe\">\n",
       "  <thead>\n",
       "    <tr style=\"text-align: right;\">\n",
       "      <th></th>\n",
       "      <th>u</th>\n",
       "      <th>v</th>\n",
       "    </tr>\n",
       "  </thead>\n",
       "  <tbody>\n",
       "    <tr>\n",
       "      <th>0</th>\n",
       "      <td>0</td>\n",
       "      <td>58</td>\n",
       "    </tr>\n",
       "    <tr>\n",
       "      <th>1</th>\n",
       "      <td>0</td>\n",
       "      <td>132</td>\n",
       "    </tr>\n",
       "    <tr>\n",
       "      <th>2</th>\n",
       "      <td>0</td>\n",
       "      <td>603</td>\n",
       "    </tr>\n",
       "    <tr>\n",
       "      <th>3</th>\n",
       "      <td>0</td>\n",
       "      <td>398</td>\n",
       "    </tr>\n",
       "    <tr>\n",
       "      <th>4</th>\n",
       "      <td>0</td>\n",
       "      <td>555</td>\n",
       "    </tr>\n",
       "    <tr>\n",
       "      <th>...</th>\n",
       "      <td>...</td>\n",
       "      <td>...</td>\n",
       "    </tr>\n",
       "    <tr>\n",
       "      <th>2096</th>\n",
       "      <td>597</td>\n",
       "      <td>611</td>\n",
       "    </tr>\n",
       "    <tr>\n",
       "      <th>2097</th>\n",
       "      <td>601</td>\n",
       "      <td>603</td>\n",
       "    </tr>\n",
       "    <tr>\n",
       "      <th>2098</th>\n",
       "      <td>601</td>\n",
       "      <td>616</td>\n",
       "    </tr>\n",
       "    <tr>\n",
       "      <th>2099</th>\n",
       "      <td>603</td>\n",
       "      <td>616</td>\n",
       "    </tr>\n",
       "    <tr>\n",
       "      <th>2100</th>\n",
       "      <td>311</td>\n",
       "      <td>613</td>\n",
       "    </tr>\n",
       "  </tbody>\n",
       "</table>\n",
       "<p>2101 rows × 2 columns</p>\n",
       "</div>"
      ],
      "text/plain": [
       "        u    v\n",
       "0       0   58\n",
       "1       0  132\n",
       "2       0  603\n",
       "3       0  398\n",
       "4       0  555\n",
       "...   ...  ...\n",
       "2096  597  611\n",
       "2097  601  603\n",
       "2098  601  616\n",
       "2099  603  616\n",
       "2100  311  613\n",
       "\n",
       "[2101 rows x 2 columns]"
      ]
     },
     "execution_count": 3,
     "metadata": {
      "tags": []
     },
     "output_type": "execute_result"
    }
   ],
   "source": [
    "data #here is the final data"
   ]
  },
  {
   "cell_type": "code",
   "execution_count": 4,
   "metadata": {
    "id": "Ftsad6UKjPSy"
   },
   "outputs": [],
   "source": [
    "n=[]  #here count for the total nodes in the graph\n",
    "for i in range(len(data)):\n",
    "  n.append(data['u'][i])\n",
    "  n.append(data['v'][i])\n",
    "n=list(set(n))"
   ]
  },
  {
   "cell_type": "code",
   "execution_count": 5,
   "metadata": {
    "colab": {
     "base_uri": "https://localhost:8080/"
    },
    "id": "XO2UBBxJjPV3",
    "outputId": "1f1dc0eb-e092-4d5d-f914-3e6fa0004ca6"
   },
   "outputs": [
    {
     "name": "stdout",
     "output_type": "stream",
     "text": [
      "total nodes in the graph is : 620\n"
     ]
    }
   ],
   "source": [
    "print(\"total nodes in the graph is :\",len(n))"
   ]
  },
  {
   "cell_type": "code",
   "execution_count": 6,
   "metadata": {
    "colab": {
     "base_uri": "https://localhost:8080/"
    },
    "id": "j6YGoeboj6WG",
    "outputId": "fef3340a-a04c-4685-aba8-810560a13770"
   },
   "outputs": [
    {
     "name": "stdout",
     "output_type": "stream",
     "text": [
      "Total number edges present in the graph is:  2101\n"
     ]
    }
   ],
   "source": [
    "print(\"Total number edges present in the graph is: \",len(data))"
   ]
  },
  {
   "cell_type": "code",
   "execution_count": 7,
   "metadata": {
    "id": "iNcbC7y9kQz9"
   },
   "outputs": [],
   "source": [
    "overall_100_graphs_degree_distribution={} #it is grphwise degree for all 1o0 graphs and vales are the unique degree counts of each node of the random 100 graphs\n",
    "for i in range(1,101):\n",
    "  overall_100_graphs_degree_distribution[i]={}\n"
   ]
  },
  {
   "cell_type": "code",
   "execution_count": 8,
   "metadata": {
    "id": "JoNIWeuMvLrR"
   },
   "outputs": [],
   "source": [
    "unique_degrees={} #here it is dictionary for the unqiue degree"
   ]
  },
  {
   "cell_type": "code",
   "execution_count": 9,
   "metadata": {
    "colab": {
     "base_uri": "https://localhost:8080/"
    },
    "id": "e_-eI6g29iTA",
    "outputId": "b17b4dc6-a79b-4766-c5ae-5bcee025d6b8"
   },
   "outputs": [
    {
     "name": "stdout",
     "output_type": "stream",
     "text": [
      "probability value is : p : number of edges in the graph / total number of possible edges in the graph:  0.010948981187138464\n"
     ]
    }
   ],
   "source": [
    "p=((len(data))*2)/((len(n))*((len(n))-1))\n",
    "print(\"probability value is : p : number of edges in the graph / total number of possible edges in the graph: \",p)"
   ]
  },
  {
   "cell_type": "markdown",
   "metadata": {
    "id": "jeaqq_iSkinS"
   },
   "source": [
    "Gilberts ranbom graph generation algorithm:"
   ]
  },
  {
   "cell_type": "markdown",
   "metadata": {
    "id": "5vXNQp4Gqk0J"
   },
   "source": [
    "Comparision with 100 random graphs:\n",
    "As here probability value p is very small and the random value x generated that will be compare to generate the edges. So if that x is small the p then there is edges connect between the two nodes else no nodes. Therefore. \n",
    "\n",
    "(1) Here 100 random graphs generated will have very few edges compare to original graph genreally Hence random genrtaed graph will me more sparse compare to original graph.\n",
    "\n",
    "(2)Here also random generated graphs will have less degree compare to oerignial graph as less number of edges.\n"
   ]
  },
  {
   "cell_type": "code",
   "execution_count": 10,
   "metadata": {
    "id": "zcnViXS5jPYv"
   },
   "outputs": [],
   "source": [
    "import random   \n",
    "for count in range(1,100+1):   #loop for all the 100 graphs:\n",
    "  ##intitialise:graph\n",
    "  # adjancency_matrix= [[0 for i in range(len(n))] for j in range(len(n))]\n",
    "  # edge list intialise\n",
    "  edge_list={}    #edge list for each new individual  random  graph generate\n",
    "  for i in range(len(n)):   #initialization of edge list\n",
    "    edge_list[i]=[]\n",
    "  for c in range(len(n)):  #here we make 2 loops for creating edges if possible between 2 node\n",
    "    for r in range(c+1,len(n)):\n",
    "        x=random.uniform(0,1)  #random unform probabilty is generated and check with p if p>x then edge is possbile else not\n",
    "        if p>x:\n",
    "          # adjancency_matrix[r][c]=1\n",
    "          # adjancency_matrix[c][r]=1\n",
    "          edge_list[r].append(c)   #make undirected graph\n",
    "          edge_list[c].append(r)  \n",
    "\n",
    "  degree_of_nodes={}    #now here we find out all possible degree of nodes [present in generated graph]\n",
    "  for i in edge_list.keys():\n",
    "    degree_of_nodes[i]=0\n",
    "  for i in edge_list.keys():    #degeree is total adjancent nodes present around partricular nodes\n",
    "    degree_of_nodes[i]=len(edge_list[i])\n",
    "\n",
    "\n",
    "\n",
    "  degree_frequncy={}   #frequncy count of the occurence of the degree of the nodes\n",
    "  for key,value in degree_of_nodes.items():\n",
    "    if value not in degree_frequncy.keys():\n",
    "      degree_frequncy[value]=0\n",
    "      degree_frequncy[value]+=1\n",
    "    else:\n",
    "      degree_frequncy[value]+=1\n",
    "  for i in degree_frequncy.keys():\n",
    "    if i not in unique_degrees.keys():\n",
    "      unique_degrees[i]=0\n",
    "  \n",
    "\n",
    "  overall_100_graphs_degree_distribution[count]=degree_frequncy   #store frquncy count of each degree graphwise and assign it here\n",
    "\n",
    "        "
   ]
  },
  {
   "cell_type": "code",
   "execution_count": null,
   "metadata": {
    "id": "-pQxpOLEJeDh"
   },
   "outputs": [],
   "source": [
    "overall_100_graphs_degree_distribution #degree frquncy distribution for each grph where key is graph number and value is degrees"
   ]
  },
  {
   "cell_type": "code",
   "execution_count": 12,
   "metadata": {
    "id": "w9XFMkZImExD"
   },
   "outputs": [],
   "source": [
    "\n",
    "for graph,deg in overall_100_graphs_degree_distribution.items():   #here counting frquncy of all the unique degrees in overall random gernerated graph\n",
    "  # graph 1\n",
    "  for key,value in deg.items():\n",
    "    unique_degrees[key]+=value"
   ]
  },
  {
   "cell_type": "code",
   "execution_count": 13,
   "metadata": {
    "id": "NBZ7A3rgn5UL"
   },
   "outputs": [],
   "source": [
    "kmax=0\n",
    "cmax=0\n",
    "for key,value in unique_degrees.items(): #for finding maximum degree kmax in the graph\n",
    "  if cmax< value:\n",
    "    kmax=key\n",
    "    cmax=value"
   ]
  },
  {
   "cell_type": "code",
   "execution_count": 14,
   "metadata": {
    "id": "2QK3F3TUnaLo"
   },
   "outputs": [],
   "source": [
    "for i in unique_degrees.keys():  #take out mean of the degrees\n",
    "  unique_degrees[i]/=100"
   ]
  },
  {
   "cell_type": "markdown",
   "metadata": {
    "id": "R_lF-rGzopNB"
   },
   "source": [
    "MEAN vs DEGREE of the graph is:\n",
    "\n",
    "Here mean of taken degree x where like what is the frequncy of degree x in all the 100 random graph and sum up them and divide by 100 i.e taking mean."
   ]
  },
  {
   "cell_type": "code",
   "execution_count": 15,
   "metadata": {
    "colab": {
     "base_uri": "https://localhost:8080/",
     "height": 411
    },
    "id": "3rBavbU2ndiN",
    "outputId": "7a047cce-a7a3-47d8-9704-1a8e54615085"
   },
   "outputs": [
    {
     "data": {
      "image/png": "[encoded data removed]",
      "text/plain": [
       "<Figure size 864x432 with 1 Axes>"
      ]
     },
     "metadata": {
      "needs_background": "light",
      "tags": []
     },
     "output_type": "display_data"
    }
   ],
   "source": [
    "import matplotlib.pyplot as plt\n",
    "import numpy as np\n",
    "fg, ax = plt.subplots(figsize =(12, 6)) \n",
    "x_axis=[]\n",
    "y_axis=[]\n",
    "for key,value in  unique_degrees.items():  \n",
    "  x_axis.append(key)\n",
    "  y_axis.append(value/kmax)\n",
    "  ax.scatter(x_axis,y_axis,s=np.pi*3.2,c=(\"red\"), alpha=0.5)\n",
    "     \n",
    "plt.xlabel(\"DEGREE OF NODES\", fontsize=12) \n",
    "plt.ylabel(\" PROBABILITY OF DEGREE (MEAN) \", fontsize=12) \n",
    "plt.title(\"Scaled Degree Distribution(Mean)\",fontsize=18) \n",
    "plt.show() "
   ]
  },
  {
   "cell_type": "markdown",
   "metadata": {
    "id": "BfSC05ulepjc"
   },
   "source": [
    "standard deviation:"
   ]
  },
  {
   "cell_type": "code",
   "execution_count": 16,
   "metadata": {
    "id": "eatVWiU2-qCa"
   },
   "outputs": [],
   "source": [
    "import numpy as np  \n",
    "standard_deviation_overall={} #here we are finding out standard deviation for all the degree of the graph using\n",
    "standard_deviation_N={}  #using formula sqrt((x-mean(x))/N(total number))\n",
    "for i in unique_degrees.keys():\n",
    "  standard_deviation_overall[i]=0\n",
    "  standard_deviation_N[i]=0\n",
    "for graph,deg in overall_100_graphs_degree_distribution.items(): #lloop for overall degrees of 100 graphs\n",
    "  for key,value in deg.items():\n",
    "    standard_deviation_overall[key]+=np.square(value - unique_degrees[key])  #square(x-mean of x) calculation here\n",
    "    standard_deviation_N[key]+=1 "
   ]
  },
  {
   "cell_type": "code",
   "execution_count": 17,
   "metadata": {
    "id": "PTE4yF7a-qEB"
   },
   "outputs": [],
   "source": [
    "for i in unique_degrees.keys():\n",
    "  standard_deviation_overall[i]=np.sqrt(standard_deviation_overall[i]/standard_deviation_N[i]) # sqrt(sqare(x-mean of x)/N) calculation"
   ]
  },
  {
   "cell_type": "markdown",
   "metadata": {
    "id": "XkQuhsPipog0"
   },
   "source": [
    "Standard deviation vs degree graph"
   ]
  },
  {
   "cell_type": "code",
   "execution_count": 20,
   "metadata": {
    "id": "5wTpgI-Ypv67"
   },
   "outputs": [],
   "source": [
    "kmax=0\n",
    "cmax=0\n",
    "for key,value in standard_deviation_overall.items(): #for finding maximum degree kmax in the graph\n",
    "  if cmax< value:\n",
    "    kmax=key\n",
    "    cmax=value\n",
    "kmax=max(list(standard_deviation_overall.values()))"
   ]
  },
  {
   "cell_type": "code",
   "execution_count": 21,
   "metadata": {
    "colab": {
     "base_uri": "https://localhost:8080/",
     "height": 411
    },
    "id": "kMsqzmaQ-qIF",
    "outputId": "bedb7a00-5725-474c-bd5a-f8005eb7221f"
   },
   "outputs": [
    {
     "data": {
      "image/png": "[encoded data removed]",
      "text/plain": [
       "<Figure size 864x432 with 1 Axes>"
      ]
     },
     "metadata": {
      "needs_background": "light",
      "tags": []
     },
     "output_type": "display_data"
    }
   ],
   "source": [
    "import matplotlib.pyplot as plt\n",
    "import numpy as np\n",
    "fg, ax = plt.subplots(figsize =(12, 6)) \n",
    "x_axis=[]\n",
    "y_axis=[]\n",
    "for key,value in  standard_deviation_overall.items():  \n",
    "  x_axis.append(key)\n",
    "  y_axis.append(value/kmax)\n",
    "  ax.scatter(x_axis,y_axis,s=np.pi*3.2,c=(\"red\"), alpha=0.5)\n",
    "     \n",
    "plt.xlabel(\"Degree of nodes\", fontsize=12) \n",
    "plt.ylabel(\"Standard Deviation \", fontsize=12) \n",
    "plt.title(\"Standard Deviation VS Degree\",fontsize=18) \n",
    "plt.show() "
   ]
  },
  {
   "cell_type": "code",
   "execution_count": null,
   "metadata": {
    "id": "Wmlm0gNQp4y_"
   },
   "outputs": [],
   "source": []
  }
 ],
 "metadata": {
  "colab": {
   "collapsed_sections": [],
   "name": "network_science_que4.ipynb",
   "provenance": []
  },
  "kernelspec": {
   "display_name": "Python 3",
   "language": "python",
   "name": "python3"
  },
  "language_info": {
   "codemirror_mode": {
    "name": "ipython",
    "version": 3
   },
   "file_extension": ".py",
   "mimetype": "text/x-python",
   "name": "python",
   "nbconvert_exporter": "python",
   "pygments_lexer": "ipython3",
   "version": "3.7.4"
  }
 },
 "nbformat": 4,
 "nbformat_minor": 1
}
