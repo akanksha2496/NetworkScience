{
 "cells": [
  {
   "cell_type": "markdown",
   "metadata": {
    "id": "WH_viDF4j-CY"
   },
   "source": [
    "Que2 : How would redefine the notion of ‘degree’ and ‘clustering coefficient’ for a weighted network to\n",
    "account for the edge weights?\n",
    "\n",
    "\n",
    "\n",
    "\n",
    "Taken data set is directed and weighted. So what I did is I make it undirected and if 2 differnt nodes are connected with 2 different direction then I assign both of them with same weighted edge so by this degree of all the edges are same. As weight of the edges are conscider as a degree of node which connects it. This is how degree is defined as new.\n",
    "\n",
    "\n",
    "example:\n",
    "a , b ,c ,d are 4 nodes so, here degree of a is 1+3 that is 4 which is\n",
    "weight sum of  addjacent edges. likwise all have degree like that.\n",
    " \n",
    " \n",
    "![graph1.PNG](data:image/png;base64,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)"
   ]
  },
  {
   "cell_type": "markdown",
   "metadata": {
    "id": "80aK-BatXnsK"
   },
   "source": [
    "Loaded the weighted  directed graph and make it undirected by assigning same weights to bidirection of two nodes."
   ]
  },
  {
   "cell_type": "code",
   "execution_count": 1,
   "metadata": {
    "id": "XEnz4Qsmv6cQ"
   },
   "outputs": [],
   "source": [
    "import pandas as pd\n",
    "data = pd.read_csv('/content/que3.txt', sep=',') #data loaded"
   ]
  },
  {
   "cell_type": "code",
   "execution_count": 2,
   "metadata": {
    "id": "T6996WiJwXq6"
   },
   "outputs": [],
   "source": [
    "data.columns=[\"SOURCE\", \"TARGET\", \"RATING\", \"TIME\"] #all the columns of the data"
   ]
  },
  {
   "cell_type": "code",
   "execution_count": 3,
   "metadata": {
    "colab": {
     "base_uri": "https://localhost:8080/",
     "height": 402
    },
    "id": "mo2VIac1wnAJ",
    "outputId": "5228a791-0f47-4e77-a44b-16d75cf44098"
   },
   "outputs": [
    {
     "data": {
      "text/html": [
       "<div>\n",
       "<style scoped>\n",
       "    .dataframe tbody tr th:only-of-type {\n",
       "        vertical-align: middle;\n",
       "    }\n",
       "\n",
       "    .dataframe tbody tr th {\n",
       "        vertical-align: top;\n",
       "    }\n",
       "\n",
       "    .dataframe thead th {\n",
       "        text-align: right;\n",
       "    }\n",
       "</style>\n",
       "<table border=\"1\" class=\"dataframe\">\n",
       "  <thead>\n",
       "    <tr style=\"text-align: right;\">\n",
       "      <th></th>\n",
       "      <th>SOURCE</th>\n",
       "      <th>TARGET</th>\n",
       "      <th>RATING</th>\n",
       "      <th>TIME</th>\n",
       "    </tr>\n",
       "  </thead>\n",
       "  <tbody>\n",
       "    <tr>\n",
       "      <th>0</th>\n",
       "      <td>430</td>\n",
       "      <td>1</td>\n",
       "      <td>10</td>\n",
       "      <td>1376539200</td>\n",
       "    </tr>\n",
       "    <tr>\n",
       "      <th>1</th>\n",
       "      <td>3134</td>\n",
       "      <td>1</td>\n",
       "      <td>10</td>\n",
       "      <td>1369713600</td>\n",
       "    </tr>\n",
       "    <tr>\n",
       "      <th>2</th>\n",
       "      <td>3026</td>\n",
       "      <td>1</td>\n",
       "      <td>10</td>\n",
       "      <td>1350014400</td>\n",
       "    </tr>\n",
       "    <tr>\n",
       "      <th>3</th>\n",
       "      <td>3010</td>\n",
       "      <td>1</td>\n",
       "      <td>10</td>\n",
       "      <td>1347854400</td>\n",
       "    </tr>\n",
       "    <tr>\n",
       "      <th>4</th>\n",
       "      <td>804</td>\n",
       "      <td>1</td>\n",
       "      <td>10</td>\n",
       "      <td>1337572800</td>\n",
       "    </tr>\n",
       "    <tr>\n",
       "      <th>...</th>\n",
       "      <td>...</td>\n",
       "      <td>...</td>\n",
       "      <td>...</td>\n",
       "      <td>...</td>\n",
       "    </tr>\n",
       "    <tr>\n",
       "      <th>24180</th>\n",
       "      <td>7604</td>\n",
       "      <td>7601</td>\n",
       "      <td>10</td>\n",
       "      <td>1364270400</td>\n",
       "    </tr>\n",
       "    <tr>\n",
       "      <th>24181</th>\n",
       "      <td>7601</td>\n",
       "      <td>7604</td>\n",
       "      <td>10</td>\n",
       "      <td>1364270400</td>\n",
       "    </tr>\n",
       "    <tr>\n",
       "      <th>24182</th>\n",
       "      <td>7604</td>\n",
       "      <td>7602</td>\n",
       "      <td>10</td>\n",
       "      <td>1364270400</td>\n",
       "    </tr>\n",
       "    <tr>\n",
       "      <th>24183</th>\n",
       "      <td>7602</td>\n",
       "      <td>7604</td>\n",
       "      <td>10</td>\n",
       "      <td>1364270400</td>\n",
       "    </tr>\n",
       "    <tr>\n",
       "      <th>24184</th>\n",
       "      <td>7604</td>\n",
       "      <td>7603</td>\n",
       "      <td>-10</td>\n",
       "      <td>1364270400</td>\n",
       "    </tr>\n",
       "  </tbody>\n",
       "</table>\n",
       "<p>24185 rows × 4 columns</p>\n",
       "</div>"
      ],
      "text/plain": [
       "       SOURCE  TARGET  RATING        TIME\n",
       "0         430       1      10  1376539200\n",
       "1        3134       1      10  1369713600\n",
       "2        3026       1      10  1350014400\n",
       "3        3010       1      10  1347854400\n",
       "4         804       1      10  1337572800\n",
       "...       ...     ...     ...         ...\n",
       "24180    7604    7601      10  1364270400\n",
       "24181    7601    7604      10  1364270400\n",
       "24182    7604    7602      10  1364270400\n",
       "24183    7602    7604      10  1364270400\n",
       "24184    7604    7603     -10  1364270400\n",
       "\n",
       "[24185 rows x 4 columns]"
      ]
     },
     "execution_count": 3,
     "metadata": {
      "tags": []
     },
     "output_type": "execute_result"
    }
   ],
   "source": [
    "data#here data contains negtive weights"
   ]
  },
  {
   "cell_type": "code",
   "execution_count": 4,
   "metadata": {
    "id": "lsMfDiV2yDlC"
   },
   "outputs": [],
   "source": [
    "data=data.drop([\"TIME\"],axis=1) #drop the time column because it is not required"
   ]
  },
  {
   "cell_type": "markdown",
   "metadata": {},
   "source": [
    "#RATING columns is the weight of the nodes"
   ]
  },
  {
   "cell_type": "code",
   "execution_count": 5,
   "metadata": {
    "id": "hM7tj3gLftcS"
   },
   "outputs": [],
   "source": [
    "for i in range(len(data['RATING'])):\n",
    "  data['RATING'][i]=abs(data['RATING'][i])"
   ]
  },
  {
   "cell_type": "code",
   "execution_count": 6,
   "metadata": {
    "colab": {
     "base_uri": "https://localhost:8080/",
     "height": 402
    },
    "id": "BEImqXCRzD87",
    "outputId": "17a9f4e2-fc91-4397-9581-1855936cd9d9"
   },
   "outputs": [
    {
     "data": {
      "text/html": [
       "<div>\n",
       "<style scoped>\n",
       "    .dataframe tbody tr th:only-of-type {\n",
       "        vertical-align: middle;\n",
       "    }\n",
       "\n",
       "    .dataframe tbody tr th {\n",
       "        vertical-align: top;\n",
       "    }\n",
       "\n",
       "    .dataframe thead th {\n",
       "        text-align: right;\n",
       "    }\n",
       "</style>\n",
       "<table border=\"1\" class=\"dataframe\">\n",
       "  <thead>\n",
       "    <tr style=\"text-align: right;\">\n",
       "      <th></th>\n",
       "      <th>SOURCE</th>\n",
       "      <th>TARGET</th>\n",
       "      <th>RATING</th>\n",
       "    </tr>\n",
       "  </thead>\n",
       "  <tbody>\n",
       "    <tr>\n",
       "      <th>0</th>\n",
       "      <td>430</td>\n",
       "      <td>1</td>\n",
       "      <td>10</td>\n",
       "    </tr>\n",
       "    <tr>\n",
       "      <th>1</th>\n",
       "      <td>3134</td>\n",
       "      <td>1</td>\n",
       "      <td>10</td>\n",
       "    </tr>\n",
       "    <tr>\n",
       "      <th>2</th>\n",
       "      <td>3026</td>\n",
       "      <td>1</td>\n",
       "      <td>10</td>\n",
       "    </tr>\n",
       "    <tr>\n",
       "      <th>3</th>\n",
       "      <td>3010</td>\n",
       "      <td>1</td>\n",
       "      <td>10</td>\n",
       "    </tr>\n",
       "    <tr>\n",
       "      <th>4</th>\n",
       "      <td>804</td>\n",
       "      <td>1</td>\n",
       "      <td>10</td>\n",
       "    </tr>\n",
       "    <tr>\n",
       "      <th>...</th>\n",
       "      <td>...</td>\n",
       "      <td>...</td>\n",
       "      <td>...</td>\n",
       "    </tr>\n",
       "    <tr>\n",
       "      <th>24180</th>\n",
       "      <td>7604</td>\n",
       "      <td>7601</td>\n",
       "      <td>10</td>\n",
       "    </tr>\n",
       "    <tr>\n",
       "      <th>24181</th>\n",
       "      <td>7601</td>\n",
       "      <td>7604</td>\n",
       "      <td>10</td>\n",
       "    </tr>\n",
       "    <tr>\n",
       "      <th>24182</th>\n",
       "      <td>7604</td>\n",
       "      <td>7602</td>\n",
       "      <td>10</td>\n",
       "    </tr>\n",
       "    <tr>\n",
       "      <th>24183</th>\n",
       "      <td>7602</td>\n",
       "      <td>7604</td>\n",
       "      <td>10</td>\n",
       "    </tr>\n",
       "    <tr>\n",
       "      <th>24184</th>\n",
       "      <td>7604</td>\n",
       "      <td>7603</td>\n",
       "      <td>10</td>\n",
       "    </tr>\n",
       "  </tbody>\n",
       "</table>\n",
       "<p>24185 rows × 3 columns</p>\n",
       "</div>"
      ],
      "text/plain": [
       "       SOURCE  TARGET  RATING\n",
       "0         430       1      10\n",
       "1        3134       1      10\n",
       "2        3026       1      10\n",
       "3        3010       1      10\n",
       "4         804       1      10\n",
       "...       ...     ...     ...\n",
       "24180    7604    7601      10\n",
       "24181    7601    7604      10\n",
       "24182    7604    7602      10\n",
       "24183    7602    7604      10\n",
       "24184    7604    7603      10\n",
       "\n",
       "[24185 rows x 3 columns]"
      ]
     },
     "execution_count": 6,
     "metadata": {
      "tags": []
     },
     "output_type": "execute_result"
    }
   ],
   "source": [
    "data"
   ]
  },
  {
   "cell_type": "code",
   "execution_count": 7,
   "metadata": {
    "id": "o8mjjmsQhgoc"
   },
   "outputs": [],
   "source": [
    "df = pd.DataFrame({'SOURCE': list(data['SOURCE']),\n",
    "                   'TARGET': list(data['TARGET']),\n",
    "                   'RATING': list(data['RATING'])})"
   ]
  },
  {
   "cell_type": "code",
   "execution_count": 8,
   "metadata": {
    "id": "oat_GzdRiGO7"
   },
   "outputs": [],
   "source": [
    "compression_opts = dict(method='zip',\n",
    "                        archive_name='out.csv')  \n",
    "df.to_csv('que3_data.csv', index=False) "
   ]
  },
  {
   "cell_type": "code",
   "execution_count": 9,
   "metadata": {
    "colab": {
     "base_uri": "https://localhost:8080/"
    },
    "id": "gUkWIaG662LD",
    "outputId": "a76a734d-fde5-493a-d9da-b0fbe936f6fe"
   },
   "outputs": [
    {
     "name": "stdout",
     "output_type": "stream",
     "text": [
      "total number of nodes in the graph is : 3782\n"
     ]
    }
   ],
   "source": [
    "n=set(data['SOURCE']).union(set(data['TARGET']))  \n",
    "print(\"total number of nodes in the graph is :\",len(n))"
   ]
  },
  {
   "cell_type": "code",
   "execution_count": 10,
   "metadata": {
    "id": "EI8MQzYbzGuY"
   },
   "outputs": [],
   "source": [
    "adjancency_matrix= [[0 for i in range(max(n)+1)] for j in range(max(n)+1)] #adjancency matric for the graph"
   ]
  },
  {
   "cell_type": "code",
   "execution_count": 11,
   "metadata": {
    "id": "5DY9so6b7AdD"
   },
   "outputs": [],
   "source": [
    "\n",
    "edge_list={}\n",
    "for i in range(0,max(n)+1):\n",
    "  edge_list[i]=[]\n",
    "for i in range(0,len(data)):#initialise the adjancecncy matrix its value will be the weights of the graph\n",
    "  if(data[\"SOURCE\"][i]!=data[\"TARGET\"][i]):   # dont assign the values if there is loop because we dont want any loop in graph\n",
    "    adjancency_matrix[data[\"SOURCE\"][i]][data[\"TARGET\"][i]]=abs(data[\"RATING\"][i])  #assign weights values in the graph\n",
    "    adjancency_matrix[data[\"TARGET\"][i]][data[\"SOURCE\"][i]]=abs(data[\"RATING\"][i] ) #and make the graph undirected\n",
    "    edge_list[data[\"SOURCE\"][i]].append(data[\"TARGET\"][i])   #here make the edge list assign all the adjncent nodes to here in the edge list\n",
    "    edge_list[data[\"TARGET\"][i]].append(data[\"SOURCE\"][i])\n"
   ]
  },
  {
   "cell_type": "code",
   "execution_count": 12,
   "metadata": {
    "id": "4-BYqvRb7Aq_"
   },
   "outputs": [],
   "source": [
    "weighted_degree={}  #weighted degree is calculated here\n",
    "weighted_degree_sum={}  #wighted sum of all the degree is caluclated here\n",
    "for i in range(len(adjancency_matrix)):\n",
    "  weighted_degree[i]=[]       #initialise with empty list\n",
    "  weighted_degree_sum[i]=0     #intilaise sum with zero\n",
    "  for j in range(len(adjancency_matrix[i])):\n",
    "    if adjancency_matrix[i][j]>0:     #conceider the nodes adjncent only if the adjacency matrix value id greater then 0 as all the weights are assigned as positive here\n",
    "      weighted_degree[i].append(adjancency_matrix[i][j]) \n",
    "  weighted_degree_sum[i]=sum(weighted_degree[i])"
   ]
  },
  {
   "cell_type": "code",
   "execution_count": 13,
   "metadata": {
    "id": "av_cqLxQI0Lp"
   },
   "outputs": [],
   "source": [
    "weighted_degree_frequncy={}  #frquncy fo all the weighted degree are counted here\n",
    "for key,value in weighted_degree_sum.items():\n",
    "  if value not in weighted_degree_frequncy.keys():\n",
    "    weighted_degree_frequncy[value]=0\n",
    "    weighted_degree_frequncy[value]+=1\n",
    "  else:\n",
    "    weighted_degree_frequncy[value]+=1\n",
    "# weighted_degree_frequncy\n"
   ]
  },
  {
   "cell_type": "code",
   "execution_count": 22,
   "metadata": {
    "id": "qfm2S2ZtdWft"
   },
   "outputs": [],
   "source": [
    "kmax=max(list(weighted_degree_frequncy.values()))#max degree of weighted frequncy"
   ]
  },
  {
   "cell_type": "markdown",
   "metadata": {
    "id": "OLaD8ZJ5nxvA"
   },
   "source": [
    "(a) ‘weighted degree distribution’"
   ]
  },
  {
   "cell_type": "code",
   "execution_count": 23,
   "metadata": {
    "colab": {
     "base_uri": "https://localhost:8080/",
     "height": 411
    },
    "id": "9nR4iwbSODxb",
    "outputId": "4ce89204-1b3e-411e-8c1a-8a2694b1112b"
   },
   "outputs": [
    {
     "data": {
      "image/png": "[encoded data removed]",
      "text/plain": [
       "<Figure size 864x432 with 1 Axes>"
      ]
     },
     "metadata": {
      "needs_background": "light",
      "tags": []
     },
     "output_type": "display_data"
    }
   ],
   "source": [
    "\n",
    "\n",
    "import matplotlib.pyplot as plt\n",
    "import numpy as np\n",
    "fg, ax = plt.subplots(figsize =(12, 6)) \n",
    "x_axis=[]\n",
    "y_axis=[]\n",
    "\n",
    "for key,value in  weighted_degree_frequncy.items(): \n",
    "    x_axis.append(key)\n",
    "    y_axis.append(value/kmax)\n",
    "    ax.scatter(x_axis,y_axis,s=np.pi*3.2,c=(\"red\"), alpha=0.5)\n",
    "     \n",
    "plt.xlabel(\"DEGREE OF NODES\", fontsize=12) \n",
    "plt.ylabel(\"SCALED PROBABILITY OF DEGREE \", fontsize=12) \n",
    "plt.title(\"Scaled (a) ‘weighted degree distribution’\",fontsize=18) \n",
    "plt.show() "
   ]
  },
  {
   "cell_type": "code",
   "execution_count": 24,
   "metadata": {
    "colab": {
     "base_uri": "https://localhost:8080/",
     "height": 446
    },
    "id": "B8indL6UOG__",
    "outputId": "acc5ec53-f1ed-4df6-aea7-000bea8b4fcf"
   },
   "outputs": [
    {
     "name": "stderr",
     "output_type": "stream",
     "text": [
      "/usr/local/lib/python3.6/dist-packages/ipykernel_launcher.py:14: UserWarning: Data has no positive values, and therefore cannot be log-scaled.\n",
      "  \n"
     ]
    },
    {
     "data": {
      "image/png": "[encoded data removed]",
      "text/plain": [
       "<Figure size 864x432 with 1 Axes>"
      ]
     },
     "metadata": {
      "needs_background": "light",
      "tags": []
     },
     "output_type": "display_data"
    }
   ],
   "source": [
    "\n",
    "  #Loglog Scaled Degree Distribution\n",
    "\n",
    "import matplotlib.pyplot as plt\n",
    "import numpy as np\n",
    "fg, ax = plt.subplots(figsize =(12, 6)) \n",
    "x_axis=[]\n",
    "y_axis=[]\n",
    "for key,value in  weighted_degree_frequncy.items():  \n",
    "  x_axis.append(key)\n",
    "  y_axis.append((value/kmax))\n",
    "  ax.scatter(x_axis,y_axis,s=np.pi*3.2,c=(\"red\"), alpha=0.5)\n",
    "  plt.yscale('log')\n",
    "  plt.xscale('log')\n",
    "    \n",
    "plt.xlabel(\"DEGREE OF NODES\", fontsize=12) \n",
    "plt.ylabel(\"SCALED PROBABILITY OF DEGREE \", fontsize=12) \n",
    "plt.title(\"(a) ‘weighted degree distribution’ in loglog Scale\",fontsize=18) \n",
    "plt.show() "
   ]
  },
  {
   "cell_type": "markdown",
   "metadata": {
    "id": "M8LAdcvZd15H"
   },
   "source": [
    "(b)cluster coefficient values:\n",
    "\n",
    "It is defined as new fomula where li is the total sum of weight of edges of all nodes which are adjcent to node i and connected to one another, and weighted_degree_sum(i) is the weighted sum of all the connected edges of node i:\n",
    "\n",
    "cluster_coefficient[i]=(2*li)/(weighted_degree_sum[i]*(weighted_degree_sum[i]-1))"
   ]
  },
  {
   "cell_type": "code",
   "execution_count": 17,
   "metadata": {
    "id": "t41-UIf3OMYc"
   },
   "outputs": [],
   "source": [
    "cluster_coefficient={} #cluster coefficent is taken out for each nodes of the graph\n",
    "for i in range(0,len(adjancency_matrix)):\n",
    "  li=0\n",
    "  for j in range(0,len(edge_list[i])):\n",
    "    for k in range(j+1,len(edge_list[i])):\n",
    "        li+=adjancency_matrix[edge_list[i][j]][edge_list[i][k]]\n",
    "  if li!=0:\n",
    "    cluster_coefficient[i]=(2*li)/(weighted_degree_sum[i]*(weighted_degree_sum[i]-1))\n",
    "  else:\n",
    "    cluster_coefficient[i]=0\n"
   ]
  },
  {
   "cell_type": "code",
   "execution_count": 18,
   "metadata": {
    "id": "XdXVI17yMfQf"
   },
   "outputs": [],
   "source": [
    "cluster_coefficient = dict(sorted(cluster_coefficient.items(), key=lambda x: x[0]))\n",
    "weighted_degree_sum= dict(sorted(weighted_degree_sum.items(), key=lambda x: x[0]))"
   ]
  },
  {
   "cell_type": "markdown",
   "metadata": {
    "id": "5UjBbGMGnexL"
   },
   "source": [
    "following is the scalled graph"
   ]
  },
  {
   "cell_type": "code",
   "execution_count": 25,
   "metadata": {
    "colab": {
     "base_uri": "https://localhost:8080/",
     "height": 411
    },
    "id": "PxpEueUOMYTu",
    "outputId": "504040de-d544-4afd-d50c-32863c0c8eea"
   },
   "outputs": [
    {
     "data": {
      "image/png": "[encoded data removed]",
      "text/plain": [
       "<Figure size 864x432 with 1 Axes>"
      ]
     },
     "metadata": {
      "needs_background": "light",
      "tags": []
     },
     "output_type": "display_data"
    }
   ],
   "source": [
    "import matplotlib.pyplot as plt\n",
    "import numpy as np\n",
    "fg, ax = plt.subplots(figsize =(12, 6)) \n",
    "x_axis=list(weighted_degree_sum.values())\n",
    "y_axis=list(cluster_coefficient.values())\n",
    "for i in range(0,len(x_axis)):\n",
    "  y_axis[i]=y_axis[i]/max(list(weighted_degree_sum.values()))\n",
    "ax.scatter(x_axis,y_axis,s=np.pi*3.2,c=(\"red\"), alpha=0.5)\n",
    "     \n",
    "plt.xlabel(\"Degree\", fontsize=12) \n",
    "plt.ylabel(\"Cluster Coefficient \", fontsize=12) \n",
    "plt.title(\"‘Clustering Coefficient’ versus 'Degree'.\",fontsize=18) \n",
    "plt.show() "
   ]
  },
  {
   "cell_type": "code",
   "execution_count": 19,
   "metadata": {
    "id": "JXjnfQf1cEmV"
   },
   "outputs": [],
   "source": []
  }
 ],
 "metadata": {
  "colab": {
   "collapsed_sections": [],
   "name": "network_science_que3.ipynb",
   "provenance": []
  },
  "kernelspec": {
   "display_name": "Python 3",
   "language": "python",
   "name": "python3"
  },
  "language_info": {
   "codemirror_mode": {
    "name": "ipython",
    "version": 3
   },
   "file_extension": ".py",
   "mimetype": "text/x-python",
   "name": "python",
   "nbconvert_exporter": "python",
   "pygments_lexer": "ipython3",
   "version": "3.7.4"
  }
 },
 "nbformat": 4,
 "nbformat_minor": 1
}
