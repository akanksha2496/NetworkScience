{
 "cells": [
  {
   "cell_type": "code",
   "execution_count": 10,
   "metadata": {
    "id": "tPddLz42GDKe"
   },
   "outputs": [],
   "source": [
    "import random  #libraries for random number\n",
    "import numpy as np #for numpy array\n",
    "import pandas as pd\n",
    "import matplotlib.pyplot as plt\n",
    "import statistics as st\n",
    "import numpy as np\n",
    "from collections import Counter\n",
    "import random\n",
    "import operator\n",
    "import math\n",
    "import networkx as nx\n",
    "import statistics as st"
   ]
  },
  {
   "cell_type": "code",
   "execution_count": 11,
   "metadata": {
    "id": "s-w9qSNGFfDQ"
   },
   "outputs": [],
   "source": [
    "n_init=5\n",
    "def init_graph():\n",
    "  matrix=[]\n",
    "  n=5\n",
    "  e=10\n",
    "  for i in range(20):\n",
    "    temp=[]\n",
    "    for j in range(20):\n",
    "     temp.append(0)\n",
    "    matrix.append(temp)\n",
    "  # print(matrix)\n",
    "  while e>=0:\n",
    "    print(e)\n",
    "    for i in range(n): \n",
    "      r=random.randint(0,n-1)\n",
    "      # print(r,\"and\",i)\n",
    "      if r != i and matrix[i][r]!=1:\n",
    "        matrix[r][i]=1\n",
    "        matrix[i][r]=1\n",
    "        e=e-1\n",
    "  return matrix"
   ]
  },
  {
   "cell_type": "code",
   "execution_count": null,
   "metadata": {
    "id": "gnpfTyjfLfzb"
   },
   "outputs": [],
   "source": [
    "iter=100\n",
    "n=5\n",
    "avg_cluster=[]\n",
    "avg_path=[]\n",
    "for itr in range(iter):\n",
    "  matrix=init_graph() #create inital graph randomly\n",
    "  degree={}#degree of each node take out\n",
    "  sum_of_all_degree=0\n",
    "  for i in range(n):#loop for degree of each node\n",
    "    degree[i]=sum(matrix[i])\n",
    "    sum_of_all_degree+=degree[i]\n",
    "  prob=[]#create a probailty list ki/sum degree\n",
    "  for i in degree.keys():\n",
    "    prob.append(degree[i]/sum_of_all_degree) #ki/sum of all degree for prob    #que3: degree[i]2/sum_all_degree2\n",
    "  cummulative=[]#cumulative list\n",
    "  cumsum=0.0\n",
    "  for i in range(len(prob)):\n",
    "    cumsum+=prob[i]\n",
    "    cummulative.append(cumsum)#cumulative list\n",
    "  for j in range(n,20):\n",
    "     row_col=[0]*len(matrix[0])\n",
    "     column_to_be_added =row_col \n",
    "     matrix = np.column_stack((matrix, column_to_be_added))\n",
    "     row_to_be_added =row_col \n",
    "     matrix = np.vstack((matrix,row_to_be_added))\n",
    "     e1=3\n",
    "     while e1>0:\n",
    "       rnd=random.uniform(0.0,1.0)\n",
    "       index=0\n",
    "       if rnd<=cummulative[0]:\n",
    "         index=0\n",
    "       for c in range(0,len(cummulative)-1):\n",
    "         if cummulative[c]<rnd and cummulative[c+1]>rnd:\n",
    "           index=c+1\n",
    "       if index!=j:\n",
    "        matrix[index][j]=1\n",
    "        matrix[j][index]=1\n",
    "        e1-=1\n",
    "  overall_100_graphs_degree_distribution={} #it is grphwise degree for all 1o0 graphs and vales are the unique degree counts of each node of the random 100 graphs\n",
    "  for i in range(1,101):\n",
    "    overall_100_graphs_degree_distribution[i]={}\n",
    "  unique_degrees={} #here it is dictionary for the unqiue degree\n",
    "  ##intitialise:graph\n",
    "  # adjancency_matrix= [[0 for i in range(len(n))] for j in range(len(n))]\n",
    "  # edge list intialise\n",
    "  edge_list={}    #edge list for each new individual  random  graph generate\n",
    "  for i in range(len(n)):   #initialization of edge list\n",
    "    edge_list[i]=[]\n",
    "  for c in range(len(n)):  #here we make 2 loops for creating edges if possible between 2 node\n",
    "    for r in range(c+1,len(n)):\n",
    "        x=random.uniform(0,1)  #random unform probabilty is generated and check with p if p>x then edge is possbile else not\n",
    "        if p>x:\n",
    "          # adjancency_matrix[r][c]=1\n",
    "          # adjancency_matrix[c][r]=1\n",
    "          edge_list[r].append(c)   #make undirected graph\n",
    "          edge_list[c].append(r)  \n",
    "\n",
    "  degree_of_nodes={}    #now here we find out all possible degree of nodes [present in generated graph]\n",
    "  for i in edge_list.keys():\n",
    "    degree_of_nodes[i]=0\n",
    "  for i in edge_list.keys():    #degeree is total adjancent nodes present around partricular nodes\n",
    "    degree_of_nodes[i]=len(edge_list[i])\n",
    "\n",
    "\n",
    "\n",
    "  degree_frequncy={}   #frequncy count of the occurence of the degree of the nodes\n",
    "  for key,value in degree_of_nodes.items():\n",
    "    if value not in degree_frequncy.keys():\n",
    "      degree_frequncy[value]=0\n",
    "      degree_frequncy[value]+=1\n",
    "    else:\n",
    "      degree_frequncy[value]+=1\n",
    "  for i in degree_frequncy.keys():\n",
    "    if i not in unique_degrees.keys():\n",
    "      unique_degrees[i]=0\n",
    "  \n",
    "  overall_100_graphs_degree_distribution[count]=degree_frequncy   #store frquncecy\n",
    "\n",
    "    "
   ]
  },
  {
   "cell_type": "code",
   "execution_count": 15,
   "metadata": {
    "colab": {
     "base_uri": "https://localhost:8080/"
    },
    "id": "2iSzE2iI6o4L",
    "outputId": "0417459a-e74b-4011-a797-9ed4ea55e4b8"
   },
   "outputs": [
    {
     "name": "stdout",
     "output_type": "stream",
     "text": [
      "Avg cluster coeff:\n",
      "0.16069242358948238\n",
      "0.18299637838717128\n",
      "0.12332577301775713\n",
      "0.28446891474165\n",
      "0.09635443483469458\n",
      "0.15841074924144688\n",
      "0.20393934475584088\n",
      "0.1929874818431875\n",
      "0.16007925227507264\n",
      "0.15198235172195326\n",
      "0.17059746240059873\n",
      "0.15332772936246475\n",
      "0.18222618926294382\n",
      "0.18668861878861878\n",
      "0.10381845825511675\n",
      "0.10787345932062578\n",
      "0.17909650846127612\n",
      "0.18585731856498441\n",
      "0.12716727994514374\n",
      "0.21341820333612632\n",
      "0.17806316490527013\n",
      "0.14945865052273713\n",
      "0.18131005955302626\n",
      "0.13872522648536326\n",
      "0.1959113239431695\n",
      "0.1504900378364101\n",
      "0.18130933107962313\n",
      "0.2044238785857652\n",
      "0.13736575475720036\n",
      "0.2152245420296639\n",
      "0.15220870326260683\n",
      "0.1534216758996675\n",
      "0.057045263430725794\n",
      "0.12258264521393313\n",
      "0.17323488314139765\n",
      "0.1770792209079664\n",
      "0.13612112883295946\n",
      "0.18593516868109677\n",
      "0.17264041060030766\n",
      "0.23918768981949082\n",
      "0.19998333051836215\n",
      "0.18833703739047725\n",
      "0.19212738716068234\n",
      "0.14577422442575885\n",
      "0.165183238134564\n",
      "0.13864251744501435\n",
      "0.16654616321669077\n",
      "0.13696301074450892\n",
      "0.15582469744476066\n",
      "0.15825516010813487\n",
      "0.16526547606763425\n",
      "0.2438376526449049\n",
      "0.17579769006580034\n",
      "0.1502792660568269\n",
      "0.21337318945792497\n",
      "0.12481039101712815\n",
      "0.1814014120554369\n",
      "0.17178440982149407\n",
      "0.15223162863519565\n",
      "0.12078163075464193\n",
      "0.11585120237146077\n",
      "0.14699013819147752\n",
      "0.17344815392709545\n",
      "0.20849948535262922\n",
      "0.19202534574128996\n",
      "0.11283505998346487\n",
      "0.1347124976846339\n",
      "0.13408703575256942\n",
      "0.22181270390152114\n",
      "0.18895785069987514\n",
      "0.16703176191432118\n",
      "0.15208000574304914\n",
      "0.18332733838115842\n",
      "0.12165316209144446\n",
      "0.14606750630385398\n",
      "0.15919107220136422\n",
      "0.21041714728489525\n",
      "0.115886696528371\n",
      "0.15473787779128334\n",
      "0.1380416596037824\n",
      "0.19476212421460762\n",
      "0.14422994111152\n",
      "0.08982132229870983\n",
      "0.17307405492534705\n",
      "0.20467449638449775\n",
      "0.1427120065533445\n",
      "0.172094371718379\n",
      "0.1571422538091173\n",
      "0.21221201374417145\n",
      "0.17247296864828837\n",
      "0.19403426389571896\n",
      "0.14465907543347303\n",
      "0.18093179487323013\n",
      "0.14578791798680074\n",
      "0.2059397563221092\n",
      "0.20230105244368413\n",
      "0.2036244691345029\n",
      "0.1638225432118621\n",
      "0.15846550149256453\n",
      "0.17251145164343434\n",
      "Avg path length\n",
      "2.6183838383838385\n",
      "2.5183838383838384\n",
      "2.5202020202020203\n",
      "2.531919191919192\n",
      "2.49010101010101\n",
      "2.424040404040404\n",
      "2.5515151515151517\n",
      "2.4876767676767675\n",
      "2.535959595959596\n",
      "2.53010101010101\n",
      "2.573131313131313\n",
      "2.5454545454545454\n",
      "2.5468686868686867\n",
      "2.5224242424242425\n",
      "2.5163636363636366\n",
      "2.5036363636363634\n",
      "2.5597979797979797\n",
      "2.5143434343434343\n",
      "2.542626262626263\n",
      "2.5064646464646465\n",
      "2.5242424242424244\n",
      "2.5076767676767675\n",
      "2.542626262626263\n",
      "2.5054545454545454\n",
      "2.4806060606060605\n",
      "2.4915151515151517\n",
      "2.4927272727272727\n",
      "2.46\n",
      "2.498181818181818\n",
      "2.587878787878788\n",
      "2.542626262626263\n",
      "2.5824242424242425\n",
      "2.4903030303030302\n",
      "2.4909090909090907\n",
      "2.533333333333333\n",
      "2.4983838383838384\n",
      "2.4896969696969697\n",
      "2.6054545454545455\n",
      "2.513939393939394\n",
      "2.547070707070707\n",
      "2.5086868686868686\n",
      "2.488080808080808\n",
      "2.490707070707071\n",
      "2.5006060606060605\n",
      "2.5076767676767675\n",
      "2.5234343434343436\n",
      "2.49010101010101\n",
      "2.532929292929293\n",
      "2.520808080808081\n",
      "2.528888888888889\n",
      "2.5228282828282826\n",
      "2.4802020202020203\n",
      "2.5547474747474745\n",
      "2.540808080808081\n",
      "2.4864646464646465\n",
      "2.551111111111111\n",
      "2.569292929292929\n",
      "2.541212121212121\n",
      "2.5167676767676768\n",
      "2.4927272727272727\n",
      "2.5036363636363634\n",
      "2.514141414141414\n",
      "2.518181818181818\n",
      "2.491919191919192\n",
      "2.52989898989899\n",
      "2.5028282828282826\n",
      "2.5327272727272727\n",
      "2.5383838383838384\n",
      "2.560808080808081\n",
      "2.5331313131313133\n",
      "2.505252525252525\n",
      "2.536969696969697\n",
      "2.5450505050505052\n",
      "2.4884848484848483\n",
      "2.527070707070707\n",
      "2.518181818181818\n",
      "2.569292929292929\n",
      "2.5268686868686867\n",
      "2.543030303030303\n",
      "2.467070707070707\n",
      "2.532929292929293\n",
      "2.5402020202020203\n",
      "2.445858585858586\n",
      "2.533737373737374\n",
      "2.5072727272727273\n",
      "2.471111111111111\n",
      "2.5105050505050506\n",
      "2.5\n",
      "2.5216161616161616\n",
      "2.523030303030303\n",
      "2.5547474747474745\n",
      "2.511111111111111\n",
      "2.4717171717171715\n",
      "2.495151515151515\n",
      "2.5555555555555554\n",
      "2.4872727272727273\n",
      "2.5028282828282826\n",
      "2.615959595959596\n",
      "2.4868686868686867\n",
      "2.4957575757575756\n"
     ]
    }
   ],
   "source": [
    "print(\"Avg cluster coeff:\" )\n",
    "for i in avg_cluster:\n",
    "  print(i)\n",
    "print(\"Avg path length\")\n",
    "for j in avg_path:\n",
    "  print(i)"
   ]
  },
  {
   "cell_type": "code",
   "execution_count": 1,
   "metadata": {},
   "outputs": [
    {
     "name": "stdout",
     "output_type": "stream",
     "text": [
      "above avg cluster coefficent and degree are with respect to each loop of nodes\n"
     ]
    }
   ],
   "source": [
    "print(\"above avg cluster coefficent and degree are with respect to each loop of nodes\")"
   ]
  },
  {
   "cell_type": "code",
   "execution_count": null,
   "metadata": {
    "id": "6tTpfPIcLf03"
   },
   "outputs": [],
   "source": [
    "for graph,deg in overall_100_graphs_degree_distribution.items():   #here counting frquncy of all the unique degrees in overall random gernerated graph\n",
    "  # graph 1\n",
    "  for key,value in deg.items():\n",
    "    unique_degrees[key]+=value"
   ]
  },
  {
   "cell_type": "code",
   "execution_count": null,
   "metadata": {
    "id": "9n8V5RnOLf4G"
   },
   "outputs": [],
   "source": [
    "\n",
    "kmax=0\n",
    "cmax=0\n",
    "for key,value in unique_degrees.items(): #for finding maximum degree kmax in the graph\n",
    "  if cmax< value:\n",
    "    kmax=key\n",
    "    cmax=value"
   ]
  },
  {
   "cell_type": "code",
   "execution_count": null,
   "metadata": {
    "id": "unjU883QLf6-"
   },
   "outputs": [],
   "source": [
    "for i in unique_degrees.keys():  #take out mean of the degrees\n",
    "  unique_degrees[i]/=100"
   ]
  },
  {
   "cell_type": "code",
   "execution_count": null,
   "metadata": {
    "id": "lnw03HvAgLcK"
   },
   "outputs": [],
   "source": [
    "import matplotlib.pyplot as plt\n",
    "import numpy as np\n",
    "fg, ax = plt.subplots(figsize =(12, 6)) \n",
    "x_axis=[]\n",
    "y_axis=[]\n",
    "for key,value in  unique_degrees.items():  \n",
    "  x_axis.append(key)\n",
    "  y_axis.append(value/kmax)\n",
    "  ax.scatter(x_axis,y_axis,s=np.pi*3.2,c=(\"red\"), alpha=0.5)\n",
    "     \n",
    "# plt.xlabel(\"DEGREE OF NODES\", fontsize=12) \n",
    "# plt.ylabel(\" PROBABILITY OF DEGREE (MEAN) \", fontsize=12) \n",
    "# plt.title(\"Scaled Degree Distribution(Mean)\",fontsize=18) \n",
    "# plt.show()\n"
   ]
  },
  {
   "cell_type": "code",
   "execution_count": null,
   "metadata": {
    "id": "n396Au1DgP2v"
   },
   "outputs": [],
   "source": [
    "import numpy as np  \n",
    "standard_deviation_overall={} #here we are finding out standard deviation for all the degree of the graph using\n",
    "standard_deviation_N={}  #using formula sqrt((x-mean(x))/N(total number))\n",
    "for i in unique_degrees.keys():\n",
    "  standard_deviation_overall[i]=0\n",
    "  standard_deviation_N[i]=0\n",
    "for graph,deg in overall_100_graphs_degree_distribution.items(): #lloop for overall degrees of 100 graphs\n",
    "  for key,value in deg.items():\n",
    "    standard_deviation_overall[key]+=np.square(value - unique_degrees[key])  #square(x-mean of x) calculation here\n",
    "    standard_deviation_N[key]+=1"
   ]
  },
  {
   "cell_type": "code",
   "execution_count": null,
   "metadata": {
    "id": "Is2id_GrgLdq"
   },
   "outputs": [],
   "source": [
    "for i in unique_degrees.keys():\n",
    "  standard_deviation_overall[i]=np.sqrt(standard_deviation_overall[i]/standard_deviation_N[i]) # sqrt(sqare(x-mean of x)/N) calculation"
   ]
  },
  {
   "cell_type": "code",
   "execution_count": null,
   "metadata": {
    "id": "uXF3ac2rgLh3"
   },
   "outputs": [],
   "source": [
    "kmax=0\n",
    "cmax=0\n",
    "for key,value in standard_deviation_overall.items(): #for finding maximum degree kmax in the graph\n",
    "  if cmax< value:\n",
    "    kmax=key\n",
    "    cmax=value\n",
    "kmax=max(list(standard_deviation_overall.values()))"
   ]
  },
  {
   "cell_type": "code",
   "execution_count": 9,
   "metadata": {
    "colab": {
     "base_uri": "https://localhost:8080/",
     "height": 312
    },
    "id": "AUN18mNh0a3j",
    "outputId": "8a9d4c6f-0951-41d3-ff89-d06b39476a32"
   },
   "outputs": [
    {
     "data": {
      "text/plain": [
       "<matplotlib.legend.Legend at 0x7f8acd32e610>"
      ]
     },
     "execution_count": 9,
     "metadata": {
      "tags": []
     },
     "output_type": "execute_result"
    },
    {
     "data": {
      "image/png": "[encoded data removed]",
      "text/plain": [
       "<Figure size 432x288 with 1 Axes>"
      ]
     },
     "metadata": {
      "needs_background": "light",
      "tags": []
     },
     "output_type": "display_data"
    }
   ],
   "source": [
    "x=[]\n",
    "mean_list=[]\n",
    "for key,value in  standard_deviation_overall.items():  \n",
    "  x.append(key)\n",
    "  mean_list.append(value/kmax)\n",
    "plt.errorbar(x,mean_list, yerr = variance_list, label ='  Mean with Std. Deviation ')\n",
    "plt.title(\"Comparison of degree distribution\")\n",
    "plt.xlabel('Degree')\n",
    "plt.ylabel(\"No of Nodes with Degree \")\n",
    "plt.legend()"
   ]
  },
  {
   "cell_type": "code",
   "execution_count": null,
   "metadata": {
    "id": "LEMcdz5r1rKV"
   },
   "outputs": [],
   "source": []
  }
 ],
 "metadata": {
  "colab": {
   "collapsed_sections": [],
   "name": "que2_Network_science.ipynb",
   "provenance": []
  },
  "kernelspec": {
   "display_name": "Python 3",
   "language": "python",
   "name": "python3"
  },
  "language_info": {
   "codemirror_mode": {
    "name": "ipython",
    "version": 3
   },
   "file_extension": ".py",
   "mimetype": "text/x-python",
   "name": "python",
   "nbconvert_exporter": "python",
   "pygments_lexer": "ipython3",
   "version": "3.7.4"
  }
 },
 "nbformat": 4,
 "nbformat_minor": 1
}
