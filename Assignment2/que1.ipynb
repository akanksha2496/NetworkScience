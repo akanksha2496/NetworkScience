{
 "cells": [
  {
   "cell_type": "code",
   "execution_count": null,
   "metadata": {
    "id": "3Mpj1kolSH_K"
   },
   "outputs": [],
   "source": [
    "#create a k-regular graph"
   ]
  },
  {
   "cell_type": "code",
   "execution_count": null,
   "metadata": {
    "id": "2PGb7wXaSH8w"
   },
   "outputs": [],
   "source": [
    "import networkx as nx #all libraraies are included\n",
    "import numpy as np\n",
    "import random"
   ]
  },
  {
   "cell_type": "code",
   "execution_count": null,
   "metadata": {
    "id": "cr9nNgHRuWIP"
   },
   "outputs": [],
   "source": [
    "n=1000 #number of node is n and dgeree is k \n",
    "k=10"
   ]
  },
  {
   "cell_type": "code",
   "execution_count": null,
   "metadata": {
    "id": "BvESPQEuSH5n"
   },
   "outputs": [],
   "source": [
    "def k_regular_graph(k,n):  #fucntion for creating k regular graph\n",
    "  G1=nx.Graph()\n",
    "  for i in range(0,n):\n",
    "    G1.add_node(i)\n",
    "  for i in range(n):\n",
    "    for j in range(k//2):\n",
    "      G1.add_edge(i,(i+j+1)%n)  # here we need to connect node by nearest neighbor\n",
    "  return G1"
   ]
  },
  {
   "cell_type": "code",
   "execution_count": null,
   "metadata": {
    "id": "YWG_SMLGSH3z"
   },
   "outputs": [],
   "source": [
    "G_regular=k_regular_graph(k,n) #initial G regular graph "
   ]
  },
  {
   "cell_type": "code",
   "execution_count": null,
   "metadata": {
    "id": "wJ4JDAlMpAaF"
   },
   "outputs": [],
   "source": [
    "\n",
    "L_0=nx.average_shortest_path_length(G_regular) # initial avg shortest path length of initial graph"
   ]
  },
  {
   "cell_type": "code",
   "execution_count": null,
   "metadata": {
    "id": "7mvh4uPQpKJN"
   },
   "outputs": [],
   "source": [
    "\n",
    "C_0=nx.average_clustering(G_regular) #avg initial clustering coefficient of initial graph"
   ]
  },
  {
   "cell_type": "code",
   "execution_count": null,
   "metadata": {
    "colab": {
     "base_uri": "https://localhost:8080/",
     "height": 319
    },
    "id": "kb0FBG96ktUN",
    "outputId": "0ba65164-0bb7-4a6e-f0d9-1deea75d19c1"
   },
   "outputs": [
    {
     "data": {
      "image/png": "[encoded data removed]",
      "text/plain": [
       "<Figure size 432x288 with 1 Axes>"
      ]
     },
     "metadata": {
      "tags": []
     },
     "output_type": "display_data"
    }
   ],
   "source": [
    "nx.draw_circular(G_regular)  #drwa of initial graph"
   ]
  },
  {
   "cell_type": "code",
   "execution_count": null,
   "metadata": {
    "id": "BirmatuvepzX"
   },
   "outputs": [],
   "source": [
    "# edge_list"
   ]
  },
  {
   "cell_type": "code",
   "execution_count": null,
   "metadata": {
    "id": "RbG8c6xkSH0m"
   },
   "outputs": [],
   "source": [
    "def Graph_rewire(n,k,p):   #rewiring of the graph\n",
    "  G2=k_regular_graph(k,n)   #generate k regular graph\n",
    "  for i in range(int(k/2)):  #run loop k/2 times \n",
    "    for j in range(0,n):     # run loop n times \n",
    "        p_random=np.random.uniform(0.0,1.0)    #generate random prob\n",
    "        lo=[]\n",
    "        if p_random<p:  # checking the condition for prob\n",
    "          for l in range(0,n): \n",
    "            if l!=j and G2.has_edge(j,l)==False: # check for edges and node\n",
    "              lo.append(l)\n",
    "          random_node=np.random.choice(lo)  # random choice for nodes\n",
    "          # print(\"lo:\",j,lo)\n",
    "          # print(\"random_node:\",random_node)\n",
    "          G2.add_edge(j,random_node)  # add the edges\n",
    "          if G2.has_edge(j,(j+i+1)%n):  # \n",
    "            G2.remove_edge(j,(j+i+1)%n)\n",
    "  return G2"
   ]
  },
  {
   "cell_type": "code",
   "execution_count": null,
   "metadata": {
    "id": "o12TCSJ28MzE"
   },
   "outputs": [],
   "source": [
    "# Graph_rewire(20,4,0.012)"
   ]
  },
  {
   "cell_type": "code",
   "execution_count": null,
   "metadata": {
    "id": "1s_zAehr8jaX"
   },
   "outputs": [],
   "source": [
    "# nx.draw_circular(G_regular)"
   ]
  },
  {
   "cell_type": "code",
   "execution_count": null,
   "metadata": {
    "id": "yiVQRgo7SHvu"
   },
   "outputs": [],
   "source": [
    "cl=[]\n",
    "pl=[]\n",
    "iter=20\n",
    "# p=14points\n",
    "for p in [0,0.00001,0.000015,0.000025,0.000050,0.000090,0.0001, 0.00012, 0.00015, 0.00017,0.0012, 0.0015, 0.0017, 0.012, 0.015,0.017,0.12,0.15,0.17,0.2,0.4,0.6,0.8,1.0]:\n",
    "  cl_n=[]\n",
    "  pl_n=[]\n",
    "  # print(\"p:\",p)\n",
    "  for i in range(iter):\n",
    "\n",
    "\n",
    "    \n",
    "    G3=Graph_rewire(n,k,p)\n",
    "    # if if nx.is_connected(G):\n",
    "  \n",
    "    pl_n.append(nx.average_shortest_path_length(G3))\n",
    "    cl_n.append(nx.average_clustering(G3))\n",
    "  \n",
    "  cl.append((sum(cl_n)/iter)/C_0)\n",
    "  pl.append((sum(pl_n)/iter)/L_0)\n"
   ]
  },
  {
   "cell_type": "code",
   "execution_count": null,
   "metadata": {
    "id": "KBwFjGMDSHt1"
   },
   "outputs": [],
   "source": [
    "# cl"
   ]
  },
  {
   "cell_type": "code",
   "execution_count": null,
   "metadata": {
    "id": "Y44UXI1cSHqu"
   },
   "outputs": [],
   "source": [
    "# pl"
   ]
  },
  {
   "cell_type": "code",
   "execution_count": null,
   "metadata": {
    "colab": {
     "base_uri": "https://localhost:8080/",
     "height": 283
    },
    "id": "CKNgSICFSHo7",
    "outputId": "3a2fe2b1-36f9-415f-dc12-0f39b6b27077"
   },
   "outputs": [
    {
     "data": {
      "image/png": "[encoded data removed]",
      "text/plain": [
       "<Figure size 432x288 with 1 Axes>"
      ]
     },
     "metadata": {
      "needs_background": "light",
      "tags": []
     },
     "output_type": "display_data"
    }
   ],
   "source": [
    "# importing two required module \n",
    "import numpy as np\n",
    "import matplotlib.pyplot as plt\n",
    "X=[0,0.00001,0.000015,0.000025,0.000050,0.000090,0.0001, 0.00012, 0.00015, 0.00017,0.0012, 0.0015, 0.0017, 0.012, 0.015,0.017,0.12,0.15,0.17,0.2,0.4,0.6,0.8,1.0]\n",
    "plt.scatter(X,cl)\n",
    "plt.scatter(X,pl)\n",
    "plt.plot(X, cl,label=\" path length\") \n",
    "plt.plot(X, pl,label=\" clustering coeff\") \n",
    "plt.xlabel(\"p\")=\n",
    "plt.xscale(\"log\")\n",
    "plt.show()"
   ]
  },
  {
   "cell_type": "code",
   "execution_count": 3,
   "metadata": {
    "id": "2nV8GQBN4RhE"
   },
   "outputs": [
    {
     "name": "stdout",
     "output_type": "stream",
     "text": [
      "Details\n",
      "1.blue line showing cluster coeffients\n",
      "2.orange line showing averge path length\n",
      "3.y axis is degree\n"
     ]
    }
   ],
   "source": [
    "print(\"Details\")\n",
    "print(\"1.blue line showing cluster coeffients\")\n",
    "print(\"2.orange line showing averge path length\")\n",
    "print(\"3.y axis is degree\")"
   ]
  },
  {
   "cell_type": "code",
   "execution_count": null,
   "metadata": {
    "id": "eMNTmDNY4RjX"
   },
   "outputs": [],
   "source": []
  },
  {
   "cell_type": "code",
   "execution_count": null,
   "metadata": {
    "id": "q-IdgcUY4RmJ"
   },
   "outputs": [],
   "source": []
  },
  {
   "cell_type": "code",
   "execution_count": null,
   "metadata": {
    "id": "ktrEP1BF4RoF"
   },
   "outputs": [],
   "source": []
  },
  {
   "cell_type": "code",
   "execution_count": null,
   "metadata": {
    "id": "uWNMdaWy4Rr4"
   },
   "outputs": [],
   "source": []
  },
  {
   "cell_type": "code",
   "execution_count": null,
   "metadata": {
    "id": "jJf6kAOb4Rt_"
   },
   "outputs": [],
   "source": []
  },
  {
   "cell_type": "code",
   "execution_count": null,
   "metadata": {
    "id": "G_nvQ29B4RxO"
   },
   "outputs": [],
   "source": []
  },
  {
   "cell_type": "code",
   "execution_count": null,
   "metadata": {
    "id": "CfLf5ikq4Rzu"
   },
   "outputs": [],
   "source": []
  },
  {
   "cell_type": "code",
   "execution_count": null,
   "metadata": {
    "id": "Og02rE5l4R2C"
   },
   "outputs": [],
   "source": []
  }
 ],
 "metadata": {
  "colab": {
   "collapsed_sections": [],
   "name": "NS_A2_que1.ipynb",
   "provenance": []
  },
  "kernelspec": {
   "display_name": "Python 3",
   "language": "python",
   "name": "python3"
  },
  "language_info": {
   "codemirror_mode": {
    "name": "ipython",
    "version": 3
   },
   "file_extension": ".py",
   "mimetype": "text/x-python",
   "name": "python",
   "nbconvert_exporter": "python",
   "pygments_lexer": "ipython3",
   "version": "3.7.4"
  }
 },
 "nbformat": 4,
 "nbformat_minor": 1
}
