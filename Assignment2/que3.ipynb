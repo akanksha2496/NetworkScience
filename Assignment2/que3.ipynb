{
 "cells": [
  {
   "cell_type": "markdown",
   "metadata": {
    "id": "tCL0rXUj_KBM"
   },
   "source": [
    "Barabasi with degree 2:"
   ]
  },
  {
   "cell_type": "code",
   "execution_count": 8,
   "metadata": {
    "id": "tPddLz42GDKe"
   },
   "outputs": [],
   "source": [
    "import random  #libraries for random number\n",
    "import numpy as np #for numpy array\n",
    "import pandas as pd\n",
    "import matplotlib.pyplot as plt\n",
    "import statistics as st\n",
    "import numpy as np\n",
    "from collections import Counter\n",
    "import random\n",
    "import operator\n",
    "import math\n",
    "import networkx as nx\n",
    "import statistics as st"
   ]
  },
  {
   "cell_type": "code",
   "execution_count": 9,
   "metadata": {
    "id": "s-w9qSNGFfDQ"
   },
   "outputs": [],
   "source": [
    "n_init=5\n",
    "def init_graph():\n",
    "  matrix=[]\n",
    "  n=5\n",
    "  e=10\n",
    "  for i in range(20):\n",
    "    temp=[]\n",
    "    for j in range(20):\n",
    "     temp.append(0)\n",
    "    matrix.append(temp)\n",
    "  # print(matrix)\n",
    "  while e>=0:\n",
    "    print(e)\n",
    "    for i in range(n): \n",
    "      r=random.randint(0,n-1)\n",
    "      # print(r,\"and\",i)\n",
    "      if r != i and matrix[i][r]!=1:\n",
    "        matrix[r][i]=1\n",
    "        matrix[i][r]=1\n",
    "        e=e-1\n",
    "  return matrix"
   ]
  },
  {
   "cell_type": "code",
   "execution_count": null,
   "metadata": {
    "id": "GBceZJSzAENg"
   },
   "outputs": [],
   "source": [
    "iter=100\n",
    "n=5\n",
    "avg_cl=[]\n",
    "avg_pl=[]\n",
    "for itr in range(iter):\n",
    "  matrix=init_graph() #create inital graph randomly\n",
    "  degree={}#degree of each node take out\n",
    "  sum_of_all_degree=0\n",
    "  for i in range(n):#loop for degree of each node\n",
    "    degree[i]=sum(matrix[i])\n",
    "    sum_of_all_degree+=(degree[i]*degree[i])\n",
    "  prob=[]#create a probailty list ki/sum degree\n",
    "  for i in degree.keys():\n",
    "    prob.append((degree[i]*degree[i])/sum_of_all_degree) #ki/sum of all degree for prob    #que3: degree[i]2/sum_all_degree2\n",
    "  cummulative=[]#cumulative list\n",
    "  cumsum=0.0\n",
    "  for i in range(len(prob)):\n",
    "    cumsum+=prob[i]\n",
    "    cummulative.append(cumsum)#cumulative list\n",
    "  for j in range(n,20):\n",
    "     row_col=[0]*len(matrix[0])\n",
    "     column_to_be_added =row_col \n",
    "     matrix = np.column_stack((matrix, column_to_be_added))\n",
    "     row_to_be_added =row_col \n",
    "     matrix = np.vstack((matrix,row_to_be_added))\n",
    "     e1=3\n",
    "     while e1>0:\n",
    "       rnd=random.uniform(0.0,1.0)\n",
    "       index=0\n",
    "       if rnd<=cummulative[0]:\n",
    "         index=0\n",
    "       for c in range(0,len(cummulative)-1):\n",
    "         if cummulative[c]<rnd and cummulative[c+1]>rnd:\n",
    "           index=c+1\n",
    "       if index!=j:\n",
    "        matrix[index][j]=1\n",
    "        matrix[j][index]=1\n",
    "        e1-=1\n",
    "  overall_100_graphs_degree_distribution={} #it is grphwise degree for all 1o0 graphs and vales are the unique degree counts of each node of the random 100 graphs\n",
    "  for i in range(1,101):\n",
    "    overall_100_graphs_degree_distribution[i]={}\n",
    "  unique_degrees={} #here it is dictionary for the unqiue degree\n",
    "  ##intitialise:graph\n",
    "  # adjancency_matrix= [[0 for i in range(len(n))] for j in range(len(n))]\n",
    "  # edge list intialise\n",
    "  edge_list={}    #edge list for each new individual  random  graph generate\n",
    "  for i in range(len(n)):   #initialization of edge list\n",
    "    edge_list[i]=[]\n",
    "  for c in range(len(n)):  #here we make 2 loops for creating edges if possible between 2 node\n",
    "    for r in range(c+1,len(n)):\n",
    "        x=random.uniform(0,1)  #random unform probabilty is generated and check with p if p>x then edge is possbile else not\n",
    "        if p>x:\n",
    "          # adjancency_matrix[r][c]=1\n",
    "          # adjancency_matrix[c][r]=1\n",
    "          edge_list[r].append(c)   #make undirected graph\n",
    "          edge_list[c].append(r)  \n",
    "\n",
    "  degree_of_nodes={}    #now here we find out all possible degree of nodes [present in generated graph]\n",
    "  for i in edge_list.keys():\n",
    "    degree_of_nodes[i]=0\n",
    "  for i in edge_list.keys():    #degeree is total adjancent nodes present around partricular nodes\n",
    "    degree_of_nodes[i]=len(edge_list[i])\n",
    "\n",
    "\n",
    "\n",
    "  degree_frequncy={}   #frequncy count of the occurence of the degree of the nodes\n",
    "  for key,value in degree_of_nodes.items():\n",
    "    if value not in degree_frequncy.keys():\n",
    "      degree_frequncy[value]=0\n",
    "      degree_frequncy[value]+=1\n",
    "    else:\n",
    "      degree_frequncy[value]+=1\n",
    "  for i in degree_frequncy.keys():\n",
    "    if i not in unique_degrees.keys():\n",
    "      unique_degrees[i]=0\n",
    "  \n",
    "  overall_100_graphs_degree_distribution[count]=degree_frequncy   #store frquncecy\n",
    "\n",
    "    "
   ]
  },
  {
   "cell_type": "code",
   "execution_count": 4,
   "metadata": {
    "colab": {
     "base_uri": "https://localhost:8080/"
    },
    "id": "NFVqeRI35y2-",
    "outputId": "847c7e5b-b42e-48f1-a52b-2adc98d4bd9d"
   },
   "outputs": [
    {
     "name": "stdout",
     "output_type": "stream",
     "text": [
      "Avg cluster coeff\n",
      "0.2817388414904154\n",
      "0.17204435068412205\n",
      "0.22402562543815863\n",
      "0.3192325073548348\n",
      "0.1752638399293466\n",
      "0.11292995062035388\n",
      "0.24671054700652842\n",
      "0.2648068035292921\n",
      "0.25485506791304724\n",
      "0.21888865309261762\n",
      "0.23349892550729215\n",
      "0.0752305730058931\n",
      "0.22575925643796896\n",
      "0.17468777225620563\n",
      "0.17093283427770475\n",
      "0.1864884087697623\n",
      "0.1892437427504664\n",
      "0.17523070631808504\n",
      "0.253581269946104\n",
      "0.2744920741888978\n",
      "0.27640448351925323\n",
      "0.1870630665723137\n",
      "0.15388094146123485\n",
      "0.361336665977901\n",
      "0.14327956619028764\n",
      "0.23132769434659384\n",
      "0.2838254068109355\n",
      "0.240822735208724\n",
      "0.13209053862932388\n",
      "0.2656813106802698\n",
      "0.3013016197211106\n",
      "0.34179841812515993\n",
      "0.1940340033888733\n",
      "0.15869982499040602\n",
      "0.18437297437922287\n",
      "0.22250258776656612\n",
      "0.10683270199720939\n",
      "0.2049240172691871\n",
      "0.19269907170045567\n",
      "0.22797093444069866\n",
      "0.3283514324754082\n",
      "0.1619736918467123\n",
      "0.1808569303625836\n",
      "0.14444636930945254\n",
      "0.145663877489675\n",
      "0.22632191935728205\n",
      "0.18894650366102272\n",
      "0.17962419068470356\n",
      "0.20815704514034564\n",
      "0.1565098768664189\n",
      "0.20221976534772676\n",
      "0.12791989592901745\n",
      "0.2492608556613363\n",
      "0.46111369827789167\n",
      "0.30470259771294655\n",
      "0.40244970448536466\n",
      "0.17910597333262845\n",
      "0.18769841638911663\n",
      "0.322541731053961\n",
      "0.24136008969445494\n",
      "0.19138664666889973\n",
      "0.1955380602917161\n",
      "0.2811996723581505\n",
      "0.19058832244062052\n",
      "0.350685281002785\n",
      "0.10746330667654329\n",
      "0.13074583919961139\n",
      "0.2718647837082416\n",
      "0.37032902340649004\n",
      "0.1434449723063458\n",
      "0.28845487808312725\n",
      "0.3274395607626364\n",
      "0.28022961103688776\n",
      "0.2089691480612533\n",
      "0.18590372996225224\n",
      "0.14958630306749404\n",
      "0.28908254025335967\n",
      "0.24138590860961118\n",
      "0.28405621520841084\n",
      "0.19646410434942954\n",
      "0.19013398578822238\n",
      "0.33542778325307604\n",
      "0.3045341722811665\n",
      "0.17894184341080938\n",
      "0.3522933881354717\n",
      "0.31701307751868335\n",
      "0.18666267856831723\n",
      "0.16162095168522905\n",
      "0.2719861213028172\n",
      "0.24567733835659278\n",
      "0.1825533292372987\n",
      "0.09850288254710743\n",
      "0.2128216042993431\n",
      "0.15863789315816473\n",
      "0.19692640869202666\n",
      "0.19950972755161764\n",
      "0.23070762125702335\n",
      "0.22903018519684298\n",
      "0.18667197453056708\n",
      "0.2810393479120715\n",
      "  \n",
      "  \n",
      "Avg path length\n",
      "2.3256565656565655\n",
      "2.386060606060606\n",
      "2.325050505050505\n",
      "2.451919191919192\n",
      "2.366868686868687\n",
      "2.403636363636364\n",
      "2.336969696969697\n",
      "2.2543434343434345\n",
      "2.3913131313131313\n",
      "2.3638383838383836\n",
      "2.3123232323232323\n",
      "2.4216161616161616\n",
      "2.3414141414141416\n",
      "2.321010101010101\n",
      "2.3507070707070707\n",
      "2.3608080808080807\n",
      "2.387272727272727\n",
      "2.4327272727272726\n",
      "2.2903030303030305\n",
      "2.3159595959595958\n",
      "2.357979797979798\n",
      "2.3953535353535353\n",
      "2.4353535353535354\n",
      "2.4143434343434342\n",
      "2.3624242424242423\n",
      "2.4284848484848487\n",
      "2.402828282828283\n",
      "2.321010101010101\n",
      "2.4775757575757575\n",
      "2.2664646464646463\n",
      "2.435151515151515\n",
      "2.335757575757576\n",
      "2.249090909090909\n",
      "2.421818181818182\n",
      "2.382020202020202\n",
      "2.394343434343434\n",
      "2.4705050505050505\n",
      "2.4464646464646465\n",
      "2.48989898989899\n",
      "2.3626262626262626\n",
      "2.3234343434343434\n",
      "2.3323232323232324\n",
      "2.4064646464646464\n",
      "2.323232323232323\n",
      "2.454141414141414\n",
      "2.5468686868686867\n",
      "2.418989898989899\n",
      "2.494747474747475\n",
      "2.391717171717172\n",
      "2.3496969696969696\n",
      "2.3464646464646464\n",
      "2.411919191919192\n",
      "2.4026262626262627\n",
      "2.416969696969697\n",
      "2.278989898989899\n",
      "2.431111111111111\n",
      "2.410707070707071\n",
      "2.412121212121212\n",
      "2.4517171717171715\n",
      "2.3686868686868685\n",
      "2.3925252525252527\n",
      "2.394343434343434\n",
      "2.3266666666666667\n",
      "2.3327272727272725\n",
      "2.2955555555555556\n",
      "2.3913131313131313\n",
      "2.359191919191919\n",
      "2.2953535353535353\n",
      "2.34989898989899\n",
      "2.346262626262626\n",
      "2.3064646464646463\n",
      "2.24989898989899\n",
      "2.356969696969697\n",
      "2.44\n",
      "2.4149494949494947\n",
      "2.4331313131313133\n",
      "2.275757575757576\n",
      "2.514949494949495\n",
      "2.302020202020202\n",
      "2.287272727272727\n",
      "2.433939393939394\n",
      "2.507878787878788\n",
      "2.469292929292929\n",
      "2.3175757575757574\n",
      "2.3024242424242423\n",
      "2.3777777777777778\n",
      "2.3254545454545457\n",
      "2.381818181818182\n",
      "2.3923232323232324\n",
      "2.3076767676767678\n",
      "2.32989898989899\n",
      "2.383030303030303\n",
      "2.365858585858586\n",
      "2.312121212121212\n",
      "2.4135353535353534\n",
      "2.4143434343434342\n",
      "2.294343434343434\n",
      "2.32020202020202\n",
      "2.315151515151515\n",
      "2.3022222222222224\n"
     ]
    }
   ],
   "source": [
    "  \n",
    "print(\"Avg cluster coeff\")\n",
    "for i in avg_cl:\n",
    "  print(i)\n",
    "\n",
    "print(\"  \")\n",
    "print(\"  \")\n",
    "print(\"Avg path length\")\n",
    "for i in avg_pl:\n",
    "  print(isinstance)"
   ]
  },
  {
   "cell_type": "code",
   "execution_count": null,
   "metadata": {
    "id": "6tTpfPIcLf03"
   },
   "outputs": [],
   "source": [
    "for graph,deg in overall_100_graphs_degree_distribution.items():   #here counting frquncy of all the unique degrees in overall random gernerated graph\n",
    "  # graph 1\n",
    "  for key,value in deg.items():\n",
    "    unique_degrees[key]+=value"
   ]
  },
  {
   "cell_type": "code",
   "execution_count": null,
   "metadata": {
    "id": "9n8V5RnOLf4G"
   },
   "outputs": [],
   "source": [
    "\n",
    "kmax=0\n",
    "cmax=0\n",
    "for key,value in unique_degrees.items(): #for finding maximum degree kmax in the graph\n",
    "  if cmax< value:\n",
    "    kmax=key\n",
    "    cmax=value"
   ]
  },
  {
   "cell_type": "code",
   "execution_count": null,
   "metadata": {
    "id": "unjU883QLf6-"
   },
   "outputs": [],
   "source": [
    "for i in unique_degrees.keys():  #take out mean of the degrees\n",
    "  unique_degrees[i]/=100"
   ]
  },
  {
   "cell_type": "code",
   "execution_count": null,
   "metadata": {
    "id": "lnw03HvAgLcK"
   },
   "outputs": [],
   "source": [
    "import matplotlib.pyplot as plt\n",
    "import numpy as np\n",
    "fg, ax = plt.subplots(figsize =(12, 6)) \n",
    "x_axis=[]\n",
    "y_axis=[]\n",
    "for key,value in  unique_degrees.items():  \n",
    "  x_axis.append(key)\n",
    "  y_axis.append(value/kmax)\n",
    "  ax.scatter(x_axis,y_axis,s=np.pi*3.2,c=(\"red\"), alpha=0.5)\n",
    "     \n",
    "# plt.xlabel(\"DEGREE OF NODES\", fontsize=12) \n",
    "# plt.ylabel(\" PROBABILITY OF DEGREE (MEAN) \", fontsize=12) \n",
    "# plt.title(\"Scaled Degree Distribution(Mean)\",fontsize=18) \n",
    "# plt.show()\n"
   ]
  },
  {
   "cell_type": "code",
   "execution_count": null,
   "metadata": {
    "id": "n396Au1DgP2v"
   },
   "outputs": [],
   "source": [
    "import numpy as np  \n",
    "standard_deviation_overall={} #here we are finding out standard deviation for all the degree of the graph using\n",
    "standard_deviation_N={}  #using formula sqrt((x-mean(x))/N(total number))\n",
    "for i in unique_degrees.keys():\n",
    "  standard_deviation_overall[i]=0\n",
    "  standard_deviation_N[i]=0\n",
    "for graph,deg in overall_100_graphs_degree_distribution.items(): #lloop for overall degrees of 100 graphs\n",
    "  for key,value in deg.items():\n",
    "    standard_deviation_overall[key]+=np.square(value - unique_degrees[key])  #square(x-mean of x) calculation here\n",
    "    standard_deviation_N[key]+=1"
   ]
  },
  {
   "cell_type": "code",
   "execution_count": null,
   "metadata": {
    "id": "Is2id_GrgLdq"
   },
   "outputs": [],
   "source": [
    "for i in unique_degrees.keys():\n",
    "  standard_deviation_overall[i]=np.sqrt(standard_deviation_overall[i]/standard_deviation_N[i]) # sqrt(sqare(x-mean of x)/N) calculation"
   ]
  },
  {
   "cell_type": "code",
   "execution_count": null,
   "metadata": {
    "id": "uXF3ac2rgLh3"
   },
   "outputs": [],
   "source": [
    "kmax=0\n",
    "cmax=0\n",
    "for key,value in standard_deviation_overall.items(): #for finding maximum degree kmax in the graph\n",
    "  if cmax< value:\n",
    "    kmax=key\n",
    "    cmax=value\n",
    "kmax=max(list(standard_deviation_overall.values()))"
   ]
  },
  {
   "cell_type": "code",
   "execution_count": 7,
   "metadata": {
    "colab": {
     "base_uri": "https://localhost:8080/",
     "height": 312
    },
    "id": "OopliNOZ5In-",
    "outputId": "c020c44f-9947-43f0-935d-0c7592e84a7d"
   },
   "outputs": [
    {
     "data": {
      "text/plain": [
       "<matplotlib.legend.Legend at 0x7f2ff5063610>"
      ]
     },
     "execution_count": 7,
     "metadata": {
      "tags": []
     },
     "output_type": "execute_result"
    },
    {
     "data": {
      "image/png": "[encoded data removed]",
      "text/plain": [
       "<Figure size 432x288 with 1 Axes>"
      ]
     },
     "metadata": {
      "needs_background": "light",
      "tags": []
     },
     "output_type": "display_data"
    }
   ],
   "source": [
    "plt.errorbar(x,mean_list, yerr = variance_list, label ='  Mean with Std. Deviation ')\n",
    "plt.title(\"Comparison of degree distribution\")\n",
    "plt.xlabel('Degree')\n",
    "plt.ylabel(\"No of Nodes with Degree \")\n",
    "plt.legend()"
   ]
  },
  {
   "cell_type": "code",
   "execution_count": null,
   "metadata": {},
   "outputs": [],
   "source": []
  },
  {
   "cell_type": "code",
   "execution_count": 1,
   "metadata": {},
   "outputs": [
    {
     "name": "stdout",
     "output_type": "stream",
     "text": [
      "Theory:\n",
      "1.clustering coefficient increases anmd shortest path length decreses with order because hubs are increaese. \n",
      "2.hubs are increases in clustering coefficent as hub is more brcause it is connected with more number of nodes\n",
      "3.hub are more because it is increasing exponenetially\n",
      "4.Because hub increse exponentially the higher probable are having more probability and lower probable become less\n",
      "having less and less probabilty\n"
     ]
    }
   ],
   "source": [
    "print(\"Theory:\")\n",
    "print(\"1.clustering coefficient increases anmd shortest path length decreses with order because hubs are increaese. \")\n",
    "print(\"2.hubs are increases in clustering coefficent as hub is more brcause it is connected with more number of nodes\")\n",
    "print(\"3.hub are more because it is increasing exponenetially\")\n",
    "print(\"4.Because hub increse exponentially the higher probable are having more probability and lower probable become less\")\n",
    "print(\"having less and less probabilty\")"
   ]
  },
  {
   "cell_type": "code",
   "execution_count": 2,
   "metadata": {},
   "outputs": [
    {
     "name": "stdout",
     "output_type": "stream",
     "text": [
      "5.In average path length decreases because for heigher order rich nodes getting more richer concept is applies like more nodes are connected so neighbors getting increases, so when hubs neighbor increase then average shortest path length decrease.\n"
     ]
    }
   ],
   "source": [
    "print(\"5.In average path length decreases because for heigher order rich nodes getting more richer concept is applies like more nodes are connected so neighbors getting increases, so when hubs neighbor increase then average shortest path length decrease.\")"
   ]
  },
  {
   "cell_type": "code",
   "execution_count": null,
   "metadata": {
    "id": "eYqBhp7I5Kxg"
   },
   "outputs": [],
   "source": []
  },
  {
   "cell_type": "code",
   "execution_count": null,
   "metadata": {
    "id": "VDQuPb_u5K0L"
   },
   "outputs": [],
   "source": []
  },
  {
   "cell_type": "code",
   "execution_count": null,
   "metadata": {
    "id": "9DL0aKq15K3J"
   },
   "outputs": [],
   "source": []
  },
  {
   "cell_type": "code",
   "execution_count": null,
   "metadata": {
    "id": "LEMcdz5r1rKV"
   },
   "outputs": [],
   "source": []
  }
 ],
 "metadata": {
  "colab": {
   "collapsed_sections": [],
   "name": "que3_Network_science.ipynb",
   "provenance": []
  },
  "kernelspec": {
   "display_name": "Python 3",
   "language": "python",
   "name": "python3"
  },
  "language_info": {
   "codemirror_mode": {
    "name": "ipython",
    "version": 3
   },
   "file_extension": ".py",
   "mimetype": "text/x-python",
   "name": "python",
   "nbconvert_exporter": "python",
   "pygments_lexer": "ipython3",
   "version": "3.7.4"
  }
 },
 "nbformat": 4,
 "nbformat_minor": 1
}
